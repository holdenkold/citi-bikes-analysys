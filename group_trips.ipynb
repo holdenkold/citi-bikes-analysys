{
 "cells": [
  {
   "cell_type": "code",
   "execution_count": 402,
   "metadata": {},
   "outputs": [],
   "source": [
    "import pandas as pd\n",
    "import numpy as np\n",
    "\n",
    "import datetime \n",
    "from datetime import timedelta"
   ]
  },
  {
   "cell_type": "code",
   "execution_count": 419,
   "metadata": {},
   "outputs": [],
   "source": [
    "filename = 'datasets/JC-201907-citibike-tripdata.csv'"
   ]
  },
  {
   "cell_type": "code",
   "execution_count": 420,
   "metadata": {},
   "outputs": [],
   "source": [
    "df = pd.read_csv(filename)\n",
    "df[\"tripduration\"]= df[\"tripduration\"].astype(int) \n",
    "df[\"start station id\"]= df[\"start station id\"].astype(int) \n",
    "df[\"end station id\"]= df[\"end station id\"].astype(int) \n",
    "df[\"birth year\"]= df[\"birth year\"].astype(int) \n",
    "df[\"gender\"]= df[\"gender\"].astype(int) \n",
    "df[\"starttime\"]= pd.to_datetime(df[\"starttime\"], format=\"%Y-%m-%d %H:%M:%S.%f\")\n",
    "df[\"stoptime\"] = pd.to_datetime(df[\"stoptime\"], format=\"%Y-%m-%d %H:%M:%S.%f\")\n",
    "\n",
    "\n",
    "df.drop(['tripduration', 'usertype', 'start station latitude', 'start station longitude', 'end station longitude', 'end station latitude', 'birth year', 'gender', 'bikeid'], axis=1, inplace=True)"
   ]
  },
  {
   "cell_type": "code",
   "execution_count": 421,
   "metadata": {},
   "outputs": [
    {
     "data": {
      "text/html": [
       "<div>\n",
       "<style scoped>\n",
       "    .dataframe tbody tr th:only-of-type {\n",
       "        vertical-align: middle;\n",
       "    }\n",
       "\n",
       "    .dataframe tbody tr th {\n",
       "        vertical-align: top;\n",
       "    }\n",
       "\n",
       "    .dataframe thead th {\n",
       "        text-align: right;\n",
       "    }\n",
       "</style>\n",
       "<table border=\"1\" class=\"dataframe\">\n",
       "  <thead>\n",
       "    <tr style=\"text-align: right;\">\n",
       "      <th></th>\n",
       "      <th>starttime</th>\n",
       "      <th>stoptime</th>\n",
       "      <th>start station id</th>\n",
       "      <th>start station name</th>\n",
       "      <th>end station id</th>\n",
       "      <th>end station name</th>\n",
       "    </tr>\n",
       "  </thead>\n",
       "  <tbody>\n",
       "    <tr>\n",
       "      <th>0</th>\n",
       "      <td>2019-07-01 00:00:36.615</td>\n",
       "      <td>2019-07-01 00:30:30.594</td>\n",
       "      <td>3186</td>\n",
       "      <td>Grove St PATH</td>\n",
       "      <td>3198</td>\n",
       "      <td>Heights Elevator</td>\n",
       "    </tr>\n",
       "    <tr>\n",
       "      <th>1</th>\n",
       "      <td>2019-07-01 00:02:54.615</td>\n",
       "      <td>2019-07-01 00:10:09.037</td>\n",
       "      <td>3206</td>\n",
       "      <td>Hilltop</td>\n",
       "      <td>3280</td>\n",
       "      <td>Astor Place</td>\n",
       "    </tr>\n",
       "    <tr>\n",
       "      <th>2</th>\n",
       "      <td>2019-07-01 00:03:27.567</td>\n",
       "      <td>2019-07-01 00:07:38.608</td>\n",
       "      <td>3186</td>\n",
       "      <td>Grove St PATH</td>\n",
       "      <td>3205</td>\n",
       "      <td>JC Medical Center</td>\n",
       "    </tr>\n",
       "    <tr>\n",
       "      <th>3</th>\n",
       "      <td>2019-07-01 00:03:56.169</td>\n",
       "      <td>2019-07-01 00:14:32.418</td>\n",
       "      <td>3206</td>\n",
       "      <td>Hilltop</td>\n",
       "      <td>3281</td>\n",
       "      <td>Leonard Gordon Park</td>\n",
       "    </tr>\n",
       "    <tr>\n",
       "      <th>4</th>\n",
       "      <td>2019-07-01 00:04:16.206</td>\n",
       "      <td>2019-07-01 00:14:40.050</td>\n",
       "      <td>3206</td>\n",
       "      <td>Hilltop</td>\n",
       "      <td>3281</td>\n",
       "      <td>Leonard Gordon Park</td>\n",
       "    </tr>\n",
       "  </tbody>\n",
       "</table>\n",
       "</div>"
      ],
      "text/plain": [
       "                starttime                stoptime  start station id  \\\n",
       "0 2019-07-01 00:00:36.615 2019-07-01 00:30:30.594              3186   \n",
       "1 2019-07-01 00:02:54.615 2019-07-01 00:10:09.037              3206   \n",
       "2 2019-07-01 00:03:27.567 2019-07-01 00:07:38.608              3186   \n",
       "3 2019-07-01 00:03:56.169 2019-07-01 00:14:32.418              3206   \n",
       "4 2019-07-01 00:04:16.206 2019-07-01 00:14:40.050              3206   \n",
       "\n",
       "  start station name  end station id     end station name  \n",
       "0      Grove St PATH            3198     Heights Elevator  \n",
       "1            Hilltop            3280          Astor Place  \n",
       "2      Grove St PATH            3205    JC Medical Center  \n",
       "3            Hilltop            3281  Leonard Gordon Park  \n",
       "4            Hilltop            3281  Leonard Gordon Park  "
      ]
     },
     "execution_count": 421,
     "metadata": {},
     "output_type": "execute_result"
    }
   ],
   "source": [
    "df.head()"
   ]
  },
  {
   "cell_type": "code",
   "execution_count": 422,
   "metadata": {},
   "outputs": [
    {
     "name": "stderr",
     "output_type": "stream",
     "text": [
      "<ipython-input-422-7cc42bc5c4b9>:13: SettingWithCopyWarning: \n",
      "A value is trying to be set on a copy of a slice from a DataFrame\n",
      "\n",
      "See the caveats in the documentation: https://pandas.pydata.org/pandas-docs/stable/user_guide/indexing.html#returning-a-view-versus-a-copy\n",
      "  sorted_by_time['id_start'][idx] = group_id\n"
     ]
    }
   ],
   "source": [
    "# start time id\n",
    "\n",
    "sorted_by_time = df.sort_values(by=['starttime'])\n",
    "\n",
    "sorted_by_time.insert(1, \"diff_start\", sorted_by_time['starttime'].diff(), True)\n",
    "sorted_by_time.insert(1, \"id_start\", None, True) \n",
    "\n",
    "\n",
    "group_id = 0\n",
    "for idx, r in sorted_by_time.iterrows():\n",
    "    if r.diff_start > datetime.timedelta(minutes=5):\n",
    "        group_id+=1\n",
    "    sorted_by_time['id_start'][idx] = group_id"
   ]
  },
  {
   "cell_type": "code",
   "execution_count": 423,
   "metadata": {},
   "outputs": [
    {
     "name": "stderr",
     "output_type": "stream",
     "text": [
      "<ipython-input-423-07948047a047>:13: SettingWithCopyWarning: \n",
      "A value is trying to be set on a copy of a slice from a DataFrame\n",
      "\n",
      "See the caveats in the documentation: https://pandas.pydata.org/pandas-docs/stable/user_guide/indexing.html#returning-a-view-versus-a-copy\n",
      "  sorted_by_time['id_end'][idx] = group_id\n"
     ]
    }
   ],
   "source": [
    "# end time id\n",
    "\n",
    "sorted_by_time = sorted_by_time.sort_values(by=['stoptime'])\n",
    "\n",
    "sorted_by_time.insert(1, \"diff_end\", sorted_by_time['stoptime'].diff(), True) \n",
    "sorted_by_time.insert(1, \"id_end\", None, True) \n",
    "\n",
    "\n",
    "group_id = 0\n",
    "for idx, r in sorted_by_time.iterrows():\n",
    "    if r.diff_end > datetime.timedelta(minutes=5):\n",
    "        group_id+=1\n",
    "    sorted_by_time['id_end'][idx] = group_id"
   ]
  },
  {
   "cell_type": "code",
   "execution_count": 424,
   "metadata": {},
   "outputs": [],
   "source": [
    "sorted_by_time.insert(1, 'group_id', sorted_by_time.groupby(['start station name', 'end station name', 'id_start', 'id_end']).ngroup(), True)"
   ]
  },
  {
   "cell_type": "code",
   "execution_count": 425,
   "metadata": {},
   "outputs": [],
   "source": [
    "#dropping all groups with less than 2 people\n",
    "groups = sorted_by_time[sorted_by_time.duplicated(subset=['group_id'], keep=False)]"
   ]
  },
  {
   "cell_type": "code",
   "execution_count": 426,
   "metadata": {},
   "outputs": [
    {
     "data": {
      "text/plain": [
       "6883"
      ]
     },
     "execution_count": 426,
     "metadata": {},
     "output_type": "execute_result"
    }
   ],
   "source": [
    "#count of all group rides\n",
    "\n",
    "groups.group_id.nunique()"
   ]
  },
  {
   "cell_type": "code",
   "execution_count": null,
   "metadata": {},
   "outputs": [],
   "source": []
  },
  {
   "cell_type": "code",
   "execution_count": null,
   "metadata": {},
   "outputs": [],
   "source": []
  }
 ],
 "metadata": {
  "kernelspec": {
   "display_name": "Python 3",
   "language": "python",
   "name": "python3"
  },
  "language_info": {
   "codemirror_mode": {
    "name": "ipython",
    "version": 3
   },
   "file_extension": ".py",
   "mimetype": "text/x-python",
   "name": "python",
   "nbconvert_exporter": "python",
   "pygments_lexer": "ipython3",
   "version": "3.8.2"
  }
 },
 "nbformat": 4,
 "nbformat_minor": 4
}
