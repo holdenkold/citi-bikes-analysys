{
 "cells": [
  {
   "cell_type": "code",
   "execution_count": 2,
   "metadata": {},
   "outputs": [],
   "source": [
    "import pandas as pd\n",
    "import numpy as np\n",
    "\n",
    "import datetime \n",
    "from datetime import timedelta\n",
    "\n",
    "\n",
    "import matplotlib.pyplot as plt\n",
    "import seaborn as sns\n",
    "\n",
    "import warnings\n",
    "warnings.simplefilter(action='ignore', category=FutureWarning)"
   ]
  },
  {
   "cell_type": "code",
   "execution_count": 3,
   "metadata": {},
   "outputs": [],
   "source": [
    "filename = 'datasets/JC-201907-citibike-tripdata.csv'\n",
    "\n",
    "\n",
    "year_datafiles = {\"May'20\": 'datasets/JC-202005-citibike-tripdata.csv',\n",
    "               \"Apr'20\": 'datasets/JC-202004-citibike-tripdata.csv',\n",
    "               \"Mar'20\": 'datasets/JC-202003-citibike-tripdata.csv',\n",
    "               \"Feb'20\": 'datasets/JC-202002-citibike-tripdata.csv',\n",
    "               \"Jan'20\": 'datasets/JC-202001-citibike-tripdata.csv',\n",
    "               \"Dec'19\": 'datasets/JC-201912-citibike-tripdata.csv',\n",
    "               \"Nov'19\": 'datasets/JC-201911-citibike-tripdata.csv',\n",
    "               \"Oct'19\": 'datasets/JC-201910-citibike-tripdata.csv',\n",
    "               \"Sep'19\": 'datasets/JC-201909-citibike-tripdata.csv',\n",
    "               \"Aug'19\": 'datasets/JC-201908-citibike-tripdata.csv',\n",
    "               \"Jul'19\": 'datasets/JC-201907-citibike-tripdata.csv',\n",
    "               \"Jun'19\": 'datasets/JC-201906-citibike-tripdata.csv'}"
   ]
  },
  {
   "cell_type": "code",
   "execution_count": 4,
   "metadata": {},
   "outputs": [],
   "source": [
    "def prepare_data(filename):\n",
    "    df = pd.read_csv(filename)\n",
    "\n",
    "    df = df.drop(df.index[(df['tripduration'] > 7200)])\n",
    "    df = df.drop(df.index[(df['start station id'] == df['end station id'])])\n",
    "    df = df[(df['birth year'] < 2000) & (df['birth year'] > 1970)]\n",
    "\n",
    "    df[\"tripduration\"]= df[\"tripduration\"].astype(int) \n",
    "    df[\"start station id\"]= df[\"start station id\"].astype(int) \n",
    "    df[\"end station id\"]= df[\"end station id\"].astype(int) \n",
    "    df[\"birth year\"]= df[\"birth year\"].astype(int) \n",
    "    df[\"gender\"]= df[\"gender\"].astype(int) \n",
    "    df[\"starttime\"]= pd.to_datetime(df[\"starttime\"], format=\"%Y-%m-%d %H:%M:%S.%f\")\n",
    "    df[\"stoptime\"] = pd.to_datetime(df[\"stoptime\"], format=\"%Y-%m-%d %H:%M:%S.%f\")\n",
    "\n",
    "\n",
    "    df.drop(['tripduration', 'usertype', 'start station latitude', 'start station longitude', 'end station longitude', 'end station latitude', 'birth year', 'gender', 'bikeid'], axis=1, inplace=True)\n",
    "    return df "
   ]
  },
  {
   "cell_type": "code",
   "execution_count": 5,
   "metadata": {},
   "outputs": [],
   "source": [
    "def detect_groups(df):\n",
    "    # start time id\n",
    "\n",
    "    sorted_by_time = df.sort_values(by=['starttime'])\n",
    "\n",
    "    sorted_by_time.insert(1, \"diff_start\", sorted_by_time['starttime'].diff(), True)\n",
    "    sorted_by_time.insert(1, \"id_start\", None, True) \n",
    "\n",
    "\n",
    "    group_id = 0\n",
    "    for idx, r in sorted_by_time.iterrows():\n",
    "        if r.diff_start > datetime.timedelta(minutes=5):\n",
    "            group_id+=1\n",
    "        sorted_by_time['id_start'][idx] = group_id\n",
    "\n",
    "\n",
    "    # end time id\n",
    "\n",
    "    sorted_by_time = sorted_by_time.sort_values(by=['stoptime'])\n",
    "\n",
    "    sorted_by_time.insert(1, \"diff_end\", sorted_by_time['stoptime'].diff(), True) \n",
    "    sorted_by_time.insert(1, \"id_end\", None, True) \n",
    "\n",
    "\n",
    "    group_id = 0\n",
    "    for idx, r in sorted_by_time.iterrows():\n",
    "        if r.diff_end > datetime.timedelta(minutes=5):\n",
    "            group_id+=1\n",
    "        sorted_by_time['id_end'][idx] = group_id\n",
    "\n",
    "\n",
    "    sorted_by_time.insert(1, 'group_id', sorted_by_time.groupby(['start station name', 'end station name', 'id_start', 'id_end']).ngroup(), True)\n",
    "\n",
    "    #dropping all groups with less than 2 people\n",
    "    groups = sorted_by_time[sorted_by_time.duplicated(subset=['group_id'], keep=False)]\n",
    "    \n",
    "    return groups"
   ]
  },
  {
   "cell_type": "code",
   "execution_count": 122,
   "metadata": {},
   "outputs": [
    {
     "name": "stderr",
     "output_type": "stream",
     "text": [
      "<ipython-input-87-7a6545fd9d3a>:14: SettingWithCopyWarning: \n",
      "A value is trying to be set on a copy of a slice from a DataFrame\n",
      "\n",
      "See the caveats in the documentation: https://pandas.pydata.org/pandas-docs/stable/user_guide/indexing.html#returning-a-view-versus-a-copy\n",
      "  sorted_by_time['id_start'][idx] = group_id\n",
      "<ipython-input-87-7a6545fd9d3a>:29: SettingWithCopyWarning: \n",
      "A value is trying to be set on a copy of a slice from a DataFrame\n",
      "\n",
      "See the caveats in the documentation: https://pandas.pydata.org/pandas-docs/stable/user_guide/indexing.html#returning-a-view-versus-a-copy\n",
      "  sorted_by_time['id_end'][idx] = group_id\n"
     ]
    },
    {
     "data": {
      "text/html": [
       "<div>\n",
       "<style scoped>\n",
       "    .dataframe tbody tr th:only-of-type {\n",
       "        vertical-align: middle;\n",
       "    }\n",
       "\n",
       "    .dataframe tbody tr th {\n",
       "        vertical-align: top;\n",
       "    }\n",
       "\n",
       "    .dataframe thead th {\n",
       "        text-align: right;\n",
       "    }\n",
       "</style>\n",
       "<table border=\"1\" class=\"dataframe\">\n",
       "  <thead>\n",
       "    <tr style=\"text-align: right;\">\n",
       "      <th></th>\n",
       "      <th>mounth</th>\n",
       "      <th>group_trips</th>\n",
       "    </tr>\n",
       "  </thead>\n",
       "  <tbody>\n",
       "    <tr>\n",
       "      <th>0</th>\n",
       "      <td>May'20</td>\n",
       "      <td>1613</td>\n",
       "    </tr>\n",
       "    <tr>\n",
       "      <th>1</th>\n",
       "      <td>Apr'20</td>\n",
       "      <td>348</td>\n",
       "    </tr>\n",
       "    <tr>\n",
       "      <th>2</th>\n",
       "      <td>Mar'20</td>\n",
       "      <td>1260</td>\n",
       "    </tr>\n",
       "    <tr>\n",
       "      <th>3</th>\n",
       "      <td>Feb'20</td>\n",
       "      <td>1875</td>\n",
       "    </tr>\n",
       "    <tr>\n",
       "      <th>4</th>\n",
       "      <td>Jan'20</td>\n",
       "      <td>2324</td>\n",
       "    </tr>\n",
       "    <tr>\n",
       "      <th>5</th>\n",
       "      <td>Dec'19</td>\n",
       "      <td>1451</td>\n",
       "    </tr>\n",
       "    <tr>\n",
       "      <th>6</th>\n",
       "      <td>Nov'19</td>\n",
       "      <td>2852</td>\n",
       "    </tr>\n",
       "    <tr>\n",
       "      <th>7</th>\n",
       "      <td>Oct'19</td>\n",
       "      <td>4439</td>\n",
       "    </tr>\n",
       "    <tr>\n",
       "      <th>8</th>\n",
       "      <td>Sep'19</td>\n",
       "      <td>5501</td>\n",
       "    </tr>\n",
       "    <tr>\n",
       "      <th>9</th>\n",
       "      <td>Aug'19</td>\n",
       "      <td>5330</td>\n",
       "    </tr>\n",
       "    <tr>\n",
       "      <th>10</th>\n",
       "      <td>Jul'19</td>\n",
       "      <td>4438</td>\n",
       "    </tr>\n",
       "    <tr>\n",
       "      <th>11</th>\n",
       "      <td>Jun'19</td>\n",
       "      <td>4006</td>\n",
       "    </tr>\n",
       "  </tbody>\n",
       "</table>\n",
       "</div>"
      ],
      "text/plain": [
       "    mounth group_trips\n",
       "0   May'20        1613\n",
       "1   Apr'20         348\n",
       "2   Mar'20        1260\n",
       "3   Feb'20        1875\n",
       "4   Jan'20        2324\n",
       "5   Dec'19        1451\n",
       "6   Nov'19        2852\n",
       "7   Oct'19        4439\n",
       "8   Sep'19        5501\n",
       "9   Aug'19        5330\n",
       "10  Jul'19        4438\n",
       "11  Jun'19        4006"
      ]
     },
     "execution_count": 122,
     "metadata": {},
     "output_type": "execute_result"
    }
   ],
   "source": [
    "year_report = pd.DataFrame(columns = ['mounth', 'group_trips'])\n",
    "\n",
    "for n, f in year_datafiles.items():\n",
    "    df = prepare_data(f)\n",
    "    groups = detect_groups(df)\n",
    "    year_report = year_report.append({'mounth':n, 'group_trips': groups.group_id.nunique()}, ignore_index=True)\n",
    "        \n",
    "year_report"
   ]
  },
  {
   "cell_type": "code",
   "execution_count": 7,
   "metadata": {},
   "outputs": [
    {
     "name": "stderr",
     "output_type": "stream",
     "text": [
      "<ipython-input-5-7a6545fd9d3a>:14: SettingWithCopyWarning: \n",
      "A value is trying to be set on a copy of a slice from a DataFrame\n",
      "\n",
      "See the caveats in the documentation: https://pandas.pydata.org/pandas-docs/stable/user_guide/indexing.html#returning-a-view-versus-a-copy\n",
      "  sorted_by_time['id_start'][idx] = group_id\n",
      "<ipython-input-5-7a6545fd9d3a>:29: SettingWithCopyWarning: \n",
      "A value is trying to be set on a copy of a slice from a DataFrame\n",
      "\n",
      "See the caveats in the documentation: https://pandas.pydata.org/pandas-docs/stable/user_guide/indexing.html#returning-a-view-versus-a-copy\n",
      "  sorted_by_time['id_end'][idx] = group_id\n"
     ]
    }
   ],
   "source": [
    "df = prepare_data(filename)\n",
    "groups = detect_groups(df)"
   ]
  },
  {
   "cell_type": "code",
   "execution_count": 8,
   "metadata": {},
   "outputs": [],
   "source": [
    "#popular routes\n",
    "popular_routes = pd.DataFrame({'routes': groups['start station name'] + ' -> ' +  groups['end station name']})\n",
    "popular_routes = popular_routes.groupby(['routes']).size().reset_index(name='counts')"
   ]
  },
  {
   "cell_type": "code",
   "execution_count": null,
   "metadata": {},
   "outputs": [
    {
     "data": {
      "text/plain": [
       "[Text(0, 0.5, 'number of group trips'), Text(0.5, 0, 'station name')]"
      ]
     },
     "execution_count": 11,
     "metadata": {},
     "output_type": "execute_result"
    }
   ],
   "source": [
    "ax = sns.barplot(popular_routes['counts'], popular_routes['routes'], palette=\"GnBu_d\")\n",
    "ax.set_title('The most popular routes for group trips', fontsize = 12)\n",
    "ax.set(xlabel='station name', ylabel='number of group trips')\n",
    "# rcParams['figure.figsize'] = 12,7\n",
    "# # padding = 0.1 * meanpacesbyhour.max()\n",
    "# for index, pace in enumerate(popular_routes):\n",
    "#     ax.text(index,pace - padding, round(pace, 1), \n",
    "#             color='white', ha=\"center\", fontsize = 10)\n",
    "# plt.show()"
   ]
  },
  {
   "cell_type": "code",
   "execution_count": 79,
   "metadata": {},
   "outputs": [],
   "source": [
    "# popular end destination\n",
    "popular_destination = groups.groupby(['end station name']).size().reset_index(name='counts')"
   ]
  },
  {
   "cell_type": "code",
   "execution_count": null,
   "metadata": {},
   "outputs": [],
   "source": []
  }
 ],
 "metadata": {
  "kernelspec": {
   "display_name": "Python 3",
   "language": "python",
   "name": "python3"
  },
  "language_info": {
   "codemirror_mode": {
    "name": "ipython",
    "version": 3
   },
   "file_extension": ".py",
   "mimetype": "text/x-python",
   "name": "python",
   "nbconvert_exporter": "python",
   "pygments_lexer": "ipython3",
   "version": "3.8.2"
  }
 },
 "nbformat": 4,
 "nbformat_minor": 4
}
